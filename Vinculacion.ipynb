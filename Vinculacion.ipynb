{
 "cells": [
  {
   "cell_type": "code",
   "execution_count": 39,
   "id": "fec58af0",
   "metadata": {},
   "outputs": [],
   "source": [
    "import pandas as pd\n",
    "\n",
    "\n",
    "#df1_dict = pd.read_excel(r\"C:\\Users\\operadorgis\\Desktop\\df1_excel.xlsx\", sheet_name=None)\n",
    "df2_dict = pd.read_excel(r\"C:\\Users\\operadorgis\\Desktop\\df2_excel.xlsx\", sheet_name=None)\n",
    "df1 = pd.read_excel(r\"C:\\Users\\operadorgis\\Desktop\\df1_excel.xlsx\")\n",
    "\n",
    "def nosheet(sheets):\n",
    "    all_sheets = []\n",
    "    for name, sheet in sheets.items():\n",
    "        sheet['sheet'] = name\n",
    "        all_sheets.append(sheet)\n",
    "    full_table = pd.concat(all_sheets)\n",
    "    full_table.reset_index(inplace=True, drop=True)\n",
    "    return full_table\n",
    "\n",
    "#df1=nosheet(df1_dict)\n",
    "df2=nosheet(df2_dict)\n",
    "\n",
    "\n"
   ]
  },
  {
   "cell_type": "code",
   "execution_count": 43,
   "id": "ef25e31d",
   "metadata": {},
   "outputs": [],
   "source": [
    "df3 = pd.DataFrame()\n",
    "    #check 'x' column of each row of each dataframe to find matches:\n",
    "for i in range (len(df1)):\n",
    "  for ii in range(len(df2)):\n",
    "    if df1.iloc[i,5] == df2.iloc[ii,1]:\n",
    "      break\n",
    "  else:\n",
    "    df3 = df3.append(df1.iloc[i])\n",
    "df3.to_excel(r\"C:\\Users\\operadorgis\\Desktop\\vinculacion.xlsx\")"
   ]
  },
  {
   "cell_type": "code",
   "execution_count": null,
   "id": "499c4dbc",
   "metadata": {},
   "outputs": [],
   "source": [
    "dasddasds"
   ]
  }
 ],
 "metadata": {
  "celltoolbar": "Tags",
  "kernelspec": {
   "display_name": "Python 3",
   "language": "python",
   "name": "python3"
  },
  "language_info": {
   "codemirror_mode": {
    "name": "ipython",
    "version": 3
   },
   "file_extension": ".py",
   "mimetype": "text/x-python",
   "name": "python",
   "nbconvert_exporter": "python",
   "pygments_lexer": "ipython3",
   "version": "3.9.5"
  }
 },
 "nbformat": 4,
 "nbformat_minor": 5
}
